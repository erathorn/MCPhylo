{
 "cells": [
  {
   "cell_type": "markdown",
   "metadata": {},
   "source": [
    "# Markov Chain Monte Carlo for Tree structures\n",
    "## A software package to calculate statistic problems including (phylogenetic) tree structures\n",
    "\n",
    "Typical data format in phylogenetic linguistics\n",
    "\n",
    "|Language | Mountain | You | ...\n",
    "|---------|------|-----|-----\n",
    "|Swedish  | 1 |  1  | ...\n",
    "|Norwegian| 1 |  1  | ...\n",
    "|Italian  | 2 |  1  | ...\n",
    "\n",
    "Such data is used for phylogenetic inference using Bayesian methods. Based on an Markov Process wich describes the untderlying evolutionary process of character evolution Markov Chain Monte Carlo Methods can be used to estimate a posterior of phylogenetic trees. Using such (or other) trees, further statistical questions can be asked. Several of these questions are based on a statistical model whose parameters need to be infered using Markov Chain Monte Carlo methods. This requires a flexible framework which can be used to define these models. Additionally, inference should be relatively fast.\n",
    "\n",
    "The Julia programming language is a new language which aims to be high performance and easy to write. This makes it a good starting point to develop a system which can be used by many to define models for their needs but also efficient in calculating these models. \n",
    "\n",
    "The [MCPhylo package](https://MCPhylojl.readthedocs.io/en/latest/intro.html) offers a good starting point to develop an infrastructure for said tasks using the Julia Programming Language."
   ]
  },
  {
   "cell_type": "code",
   "execution_count": 1,
   "metadata": {
    "scrolled": true
   },
   "outputs": [
    {
     "name": "stderr",
     "output_type": "stream",
     "text": [
      "┌ Info: Loading DataFrames support into Gadfly.jl\n",
      "└ @ Gadfly /home/johannes/.julia/packages/Gadfly/09PWZ/src/mapping.jl:228\n"
     ]
    }
   ],
   "source": [
    "include(\"../MCPhylo/src/MCPhylo.jl\");\n",
    "using .MCPhylo;\n",
    "using Random;\n",
    "Random.seed!(1234);"
   ]
  },
  {
   "cell_type": "markdown",
   "metadata": {},
   "source": [
    "As a first step read in the data from the data file. This function creates a tree object (`m_tree`) which is a random binary tree with the languages specified in the data fiel as the leaves and an array object, which stores the character information."
   ]
  },
  {
   "cell_type": "code",
   "execution_count": 2,
   "metadata": {},
   "outputs": [],
   "source": [
    "m_tree, df = make_tree_with_data(\"../local/development.nex\"); # load your own nexus file"
   ]
  },
  {
   "cell_type": "markdown",
   "metadata": {},
   "source": [
    "In a next step all the relevant information needs to be stored in a dictionary so they can be used later on. The entries `:nnodes`, `:nsites` and `:nbase` store the the dimensions of the data array. Additionally the data array is log transformed. The log transformation is necessary for the likelihood computation."
   ]
  },
  {
   "cell_type": "code",
   "execution_count": 3,
   "metadata": {},
   "outputs": [
    {
     "data": {
      "text/plain": [
       "Dict{Symbol,Any} with 5 entries:\n",
       "  :df     => [0.0 -Inf; 0.0 -Inf; … ; -Inf -Inf; -Inf -Inf]…\n",
       "  :nnodes => 17\n",
       "  :mtree  => \"17\"\n",
       "  :nsites => 3132\n",
       "  :nbase  => 2"
      ]
     },
     "execution_count": 3,
     "metadata": {},
     "output_type": "execute_result"
    }
   ],
   "source": [
    "my_data = Dict{Symbol, Any}(\n",
    "  :mtree => m_tree,\n",
    "  :df => log.(df),\n",
    "  :nnodes => size(df)[1],\n",
    "  :nbase => size(df)[2],\n",
    "  :nsites => size(df)[3])\n"
   ]
  },
  {
   "cell_type": "markdown",
   "metadata": {},
   "source": [
    "The important part is the model definition. The idea is to define a model in terms of a graph. The graph represents the model and thus the explicit relationships between the parameters. Parameters can be specified as different nodes in the graph. There are *Stochastic*, *Logical* and *Input* nodes.\n",
    "\n",
    "* Stochastic nodes represent variables which have a prior or likelihood specification associated with them.\n",
    "* Logical nodes are deterministic functions of other nodes. \n",
    "* Input nodes are fixed model terms, which are fixed in your analysis. (They are not explicitly specified in the model definition.)\n",
    "\n",
    "Nodes in the model graph are specified by three elements.\n",
    "\n",
    "1. The dimension of the node, which is either nothing (a scalar), an integer (an array of this dimension) or the Node() identifier to identify a Tree type node.\n",
    "2. A function indicating the distribution associated with this node, or a deterministic function for logical nodes.\n",
    "3. A boolean identifying if the value of this node should be monitored."
   ]
  },
  {
   "cell_type": "code",
   "execution_count": 4,
   "metadata": {},
   "outputs": [],
   "source": [
    "# model setup\n",
    "model =  Model(\n",
    "    df = Stochastic(3,\n",
    "    (mtree, mypi, rates, nnodes, nbase, nsites) -> PhyloDist(mtree, mypi, rates, nnodes, nbase, nsites), false\n",
    "    ),\n",
    "    mypi = Stochastic( () -> Uniform(0.0,1.0)),\n",
    "    mtree = Stochastic(Node(), () -> CompoundDirichlet(1.0,1.0,0.100,1.0), true),\n",
    "    rates = Logical(1,(mymap, av) -> [av[convert(UInt8,i)] for i in mymap],false),\n",
    "    mymap = Stochastic(1,() -> Categorical([0.25, 0.25, 0.25, 0.25]), false),\n",
    "    av = Stochastic(1,() -> Dirichlet([1.0, 1.0, 1.0, 1.0]))\n",
    "     );\n"
   ]
  },
  {
   "cell_type": "markdown",
   "metadata": {},
   "source": [
    "The model graph can plotted to verify the model specification."
   ]
  },
  {
   "cell_type": "code",
   "execution_count": null,
   "metadata": {},
   "outputs": [],
   "source": [
    "draw(model, filename=\"my_graph.dot\");"
   ]
  },
  {
   "cell_type": "markdown",
   "metadata": {},
   "source": [
    "This command saves the graph structure into a dot file which. \n",
    "\n",
    "![g](g.png)\n",
    "\n",
    "The next important step is to specify the sampling scheme. The sampling scheme defines how the different values of the stochastic nodes are sampled. The original MCPhylo package provides several samplers for scalar and array valued stochastic nodes. The `:mypi` and `:av` parameters are sampled using samplers provided by the MCPhylo package. (See [Here](https://MCPhylojl.readthedocs.io/en/latest/samplers.html) for a list of available MCPhylo samplers) For the `:mymap` feature a discrete random walk metropolis sampler is added. The tree is sampled using a Probabilistic Path Hamiltonian Monte Carlo sampler ([Dinh et. al. 2017](https://arxiv.org/pdf/1702.07814.pdf)).\n",
    "\n",
    " "
   ]
  },
  {
   "cell_type": "code",
   "execution_count": 5,
   "metadata": {},
   "outputs": [],
   "source": [
    "scheme = [ProbPathHMC(:mtree, 3.0,0.02, 0.001, :provided),\n",
    "          Slice(:mypi, 0.05, Univariate),\n",
    "          SliceSimplex(:av, scale=0.02),\n",
    "          RWMC(:mymap)\n",
    "          ];\n",
    "setsamplers!(model, scheme);"
   ]
  },
  {
   "cell_type": "markdown",
   "metadata": {},
   "source": [
    "The Probabilistic Path Hamiltonian Monte Carlo sampler defines the hamiltonian dynamics for the space of tree structures. By using this method trees can be sampled more efficiently and the tree space can be explored faster.\n",
    "\n",
    "As a final step the intial (random) values of the model need to be specified."
   ]
  },
  {
   "cell_type": "code",
   "execution_count": 6,
   "metadata": {},
   "outputs": [],
   "source": [
    "# intial model values\n",
    "inits = [ Dict(\n",
    "    :mtree => my_data[:mtree],\n",
    "    :mypi=> 0.5,\n",
    "    :df => my_data[:df],\n",
    "    :nnodes => size(my_data[:nnodes]),\n",
    "    :nbase => size(my_data[:nbase]),\n",
    "    :nsites => size(my_data[:nsites]),\n",
    "    :mymap=>rand(Categorical([0.25, 0.25, 0.25, 0.25]),my_data[:nsites]),\n",
    "    :av => rand(Dirichlet([0.25, 0.25, 0.25, 0.25]))\n",
    "    )\n",
    "    ];"
   ]
  },
  {
   "cell_type": "markdown",
   "metadata": {},
   "source": [
    "The actual parameter estimation of the model parameters is done by the `mcmc` function. This function assembles all the elements specified above. In essence it takes the same parameters as the original `mcmc` functionf from the MCPhylo package. It is just extendend by the `trees` parameter. This parameter accepts a boolean value. If set to `true` the tree structures are monitored. Otherwise the tree structures are *lost* and can not be inspected afterwards."
   ]
  },
  {
   "cell_type": "code",
   "execution_count": null,
   "metadata": {},
   "outputs": [],
   "source": [
    "sim = mcmc(model, my_data, inits, 10, burnin=2,thin=1, chains=1, trees=true)"
   ]
  },
  {
   "cell_type": "markdown",
   "metadata": {},
   "source": [
    "The MCPhylo package offers some diagnostics for MCMC runs. They can all be applied to the the output of the MCMC run. Additionally there now exists a function `to_file` which flushes all monitored parameters and the collection of trees (if they are monitored) to a files which can be read by the [*Tracer Program*](http://tree.bio.ed.ac.uk/software/tracer/). The second parameter of the `to_file` function specifies the path where the resulting file(s) should be stored."
   ]
  },
  {
   "cell_type": "code",
   "execution_count": null,
   "metadata": {},
   "outputs": [],
   "source": [
    "to_file(sim, \"\")"
   ]
  },
  {
   "cell_type": "markdown",
   "metadata": {},
   "source": [
    "## Some available Distributions for trees\n",
    "\n",
    "Prior distributions over Tree structures\n",
    "\n",
    "* Compound Dirichlet ([Zhang, Rannala and Yang 2012.](https://doi.org/10.1093/sysbio/sys030))\n",
    "* Strict Molecular Clock - Birth Death ([Yang & Rannala 1997](https://doi.org/10.1093/oxfordjournals.molbev.a025811))\n",
    "* Strict Molecular Clock - Simplified Birth Death ([Yang & Rannala 1996](https://doi.org/10.1007/BF02338839))\n"
   ]
  },
  {
   "cell_type": "code",
   "execution_count": null,
   "metadata": {},
   "outputs": [],
   "source": []
  }
 ],
 "metadata": {
  "kernelspec": {
   "display_name": "Julia 1.2.0",
   "language": "julia",
   "name": "julia-1.2"
  },
  "language_info": {
   "file_extension": ".jl",
   "mimetype": "application/julia",
   "name": "julia",
   "version": "1.2.0"
  }
 },
 "nbformat": 4,
 "nbformat_minor": 2
}
