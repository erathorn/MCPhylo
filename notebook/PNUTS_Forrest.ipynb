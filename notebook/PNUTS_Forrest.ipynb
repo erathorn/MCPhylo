{
 "cells": [
  {
   "cell_type": "markdown",
   "metadata": {},
   "source": [
    "# Estimation of Forrests using PNUTS\n",
    "\n",
    "Instead of estimating the phylogenies, substitution and rate parameters for each language family separately, a hierarchical model will be defined, where the estimation can happen for several data sets at once. Thus a hyperprior on the substition paramters, the rates and the trees can be defined. Currently, this only works on the `Forrest` branch of the MCPhylo package.\n",
    "\n",
    "**Although the whole library uses Multithreading. This estimation will be terribly slow. PNUTS for large trees is very slow.**\n",
    "\n",
    "**This is just to demonstrate the setup. Multiple Chains etc. have to be used on a proper experiment.**"
   ]
  },
  {
   "cell_type": "code",
   "execution_count": 1,
   "metadata": {},
   "outputs": [
    {
     "name": "stderr",
     "output_type": "stream",
     "text": [
      "┌ Warning: The Julia CUDA library is installed, but no CUDA device detected.\n",
      "│          Computation is performed without CUDA functionality.\n",
      "└ @ Main.MCPhylo C:\\Programming\\Julia_Tree\\src\\MCPhylo.jl:30\n"
     ]
    }
   ],
   "source": [
    "include(\"../src/MCPhylo.jl\")\n",
    "using .MCPhylo\n",
    "using Random\n",
    "Random.seed!(42);"
   ]
  },
  {
   "cell_type": "markdown",
   "metadata": {},
   "source": [
    "The different datasets are taken from Rama, et. al. (2018). (https://github.com/PhyloStar/AutoCogPhylo). First load the data, merge data with the tree and finally store necessary information in a dictionary."
   ]
  },
  {
   "cell_type": "code",
   "execution_count": 2,
   "metadata": {},
   "outputs": [],
   "source": [
    "mt_st, df_st = make_tree_with_data(\"data-st-64-110.paps.nex\"); # load Sino-Tibetean\n",
    "mt_ie, df_ie = make_tree_with_data(\"data-ie-42-208.paps.nex\"); # load Indo-European\n",
    "mt_aa, df_aa = make_tree_with_data(\"data-aa-58-200.paps.nex\"); # load Austro-Asiatic\n",
    "mt_an, df_an = make_tree_with_data(\"data-an-45-210.paps.nex\"); # load Austornesian\n",
    "mt_pn, df_pn = make_tree_with_data(\"data-pn-67-183.paps.nex\"); # load Pama-Nyungan\n",
    "\n",
    "\n",
    "function data_to_tree(mt, df)\n",
    "    po = post_order(mt);\n",
    "    for node in po\n",
    "        node.data = df[:,:,node.num]\n",
    "        node.scaler = zeros(1,size(node.data, 2))\n",
    "    end\n",
    "end\n",
    "\n",
    "data_to_tree(mt_st, df_st)\n",
    "data_to_tree(mt_ie, df_ie)\n",
    "data_to_tree(mt_an, df_an)\n",
    "data_to_tree(mt_aa, df_aa)\n",
    "data_to_tree(mt_pn, df_pn)\n",
    "\n",
    "\n",
    "my_data = Dict{Symbol, Any}(\n",
    "  :mtree => [mt_st, mt_ie, mt_aa, mt_an, mt_pn],\n",
    "  :df => [df_st, df_ie, df_aa, df_an, df_pn],\n",
    "  :nnodes => [size(df_st)[3],size(df_ie)[3],size(df_aa)[3],size(df_an)[3],size(df_pn)[3]],\n",
    "  :nbase => [size(df_st)[1],size(df_ie)[1],size(df_aa)[1],size(df_an)[1],size(df_pn)[1]],\n",
    "  :nsites => [size(df_st)[2],size(df_ie)[2],size(df_aa)[2],size(df_an)[2],size(df_pn)[2]],\n",
    ");\n"
   ]
  },
  {
   "cell_type": "markdown",
   "metadata": {},
   "source": [
    "The next step is the definition of the model. Each dataset follows its own Phylogenetic Distribution. The likelihood of such a distribution object is calculated using Felsensteins algorithm. These distributions are defined by a tree, the frequency of the characters (e.g. `pi_ie`) and a vector of evolutionary rates. The equilibirum frequencies are all drawn from the same Dirichlet distribution with concentration vector `co`. The evoloutionary rates follow the discretized gamma distribution defined by Yang (1994) (https://link.springer.com/article/10.1007/BF00160154). Each dataset is modelled with its own set of rates, but the paramters of these different gamma distributions come from the same distribution."
   ]
  },
  {
   "cell_type": "code",
   "execution_count": 3,
   "metadata": {},
   "outputs": [],
   "source": [
    "# model setup\n",
    "model =  Model(\n",
    "    df_ie = Stochastic(3, (tree_ie, pi_ie,  rates) ->\n",
    "                            PhyloDist(tree_ie, pi_ie[1], rates[1:4], my_data[:nbase][2], my_data[:nsites][2], my_data[:nnodes][2]), false, false),\n",
    "    df_st = Stochastic(3, (tree_st, pi_st, rates) ->\n",
    "                            PhyloDist(tree_st, pi_st[1], rates[5:8], my_data[:nbase][1], my_data[:nsites][1], my_data[:nnodes][1]), false, false),\n",
    "    df_aa = Stochastic(3, (tree_aa, pi_aa, rates) ->\n",
    "                            PhyloDist(tree_aa, pi_aa[1], rates[9:12], my_data[:nbase][3], my_data[:nsites][3], my_data[:nnodes][3]), false, false),\n",
    "    df_an = Stochastic(3, (tree_an, pi_an, rates) ->\n",
    "                            PhyloDist(tree_an, pi_an[1], rates[13:16], my_data[:nbase][4], my_data[:nsites][4], my_data[:nnodes][4]), false, false),\n",
    "    df_pn = Stochastic(3, (tree_pn, pi_pn, rates) ->\n",
    "                            PhyloDist(tree_pn, pi_pn[1], rates[17:20], my_data[:nbase][5], my_data[:nsites][5], my_data[:nnodes][5]), false, false),\n",
    "    pi_ie = Stochastic(1, (co) -> Dirichlet(co)),\n",
    "    pi_st = Stochastic(1, (co) -> Dirichlet(co)),\n",
    "    pi_aa = Stochastic(1, (co) -> Dirichlet(co)),\n",
    "    pi_an = Stochastic(1, (co) -> Dirichlet(co)),\n",
    "    pi_pn = Stochastic(1, (co) -> Dirichlet(co)),\n",
    "    co = Stochastic(1, () -> Gamma()),\n",
    "    tree_ie = Stochastic(Node(), () -> CompoundDirichlet(1.0,1.0,0.100,1.0), true),\n",
    "    tree_st = Stochastic(Node(), () -> CompoundDirichlet(1.0,1.0,0.100,1.0), true),\n",
    "    tree_aa = Stochastic(Node(), () -> CompoundDirichlet(1.0,1.0,0.100,1.0), true),\n",
    "    tree_an = Stochastic(Node(), () -> CompoundDirichlet(1.0,1.0,0.100,1.0), true),\n",
    "    tree_pn = Stochastic(Node(), () -> CompoundDirichlet(1.0,1.0,0.100,1.0), true),\n",
    "    rates = Logical(1, (αs, βs) -> vcat(discrete_gamma_rates.(αs, βs, 4)...),false),\n",
    "    αs = Stochastic(1, () -> Gamma(), true),\n",
    "    βs = Stochastic(1, () -> Gamma(), true)\n",
    "     );\n"
   ]
  },
  {
   "cell_type": "markdown",
   "metadata": {},
   "source": [
    "Next we need to set the initial values of the model. Since the trees are random, we will use these and all the other paramters are chosen randomly."
   ]
  },
  {
   "cell_type": "code",
   "execution_count": 6,
   "metadata": {},
   "outputs": [],
   "source": [
    "# intial model values\n",
    "inits = [ Dict{Symbol, Union{Any, Real}}(\n",
    "    :tree_ie => mt_ie,\n",
    "    :tree_st => mt_st,\n",
    "    :tree_pn => mt_pn,\n",
    "    :tree_aa => mt_aa,\n",
    "    :tree_an => mt_an,\n",
    "    :pi_ie=> rand(Dirichlet(2, 1)),\n",
    "    :pi_st=> rand(Dirichlet(2, 1)),\n",
    "    :pi_an=> rand(Dirichlet(2, 1)),\n",
    "    :pi_aa=> rand(Dirichlet(2, 1)),\n",
    "    :pi_pn=> rand(Dirichlet(2, 1)),\n",
    "    :df_ie => my_data[:df][2],\n",
    "    :df_st => my_data[:df][1],\n",
    "    :df_aa => my_data[:df][3],\n",
    "    :df_an => my_data[:df][4],\n",
    "    :df_pn => my_data[:df][5],\n",
    "    :αs => rand(5),\n",
    "    :βs => rand(5),\n",
    "    :co => rand(2),\n",
    "    ),\n",
    "    ];"
   ]
  },
  {
   "cell_type": "markdown",
   "metadata": {},
   "source": [
    "Next, select the apropriate samplers. The trees are sampled using the PNUTS algorithm. The other paramteres are sampled using an apropriate slice sampler."
   ]
  },
  {
   "cell_type": "code",
   "execution_count": 7,
   "metadata": {},
   "outputs": [],
   "source": [
    "scheme = [PNUTS(:tree_ie),\n",
    "          PNUTS(:tree_st),\n",
    "          PNUTS(:tree_an),\n",
    "          PNUTS(:tree_aa),\n",
    "          PNUTS(:tree_pn),\n",
    "          SliceSimplex(:pi_ie),\n",
    "          SliceSimplex(:pi_an),\n",
    "          SliceSimplex(:pi_st),\n",
    "          SliceSimplex(:pi_aa),\n",
    "          SliceSimplex(:pi_pn),\n",
    "          Slice(:co, 1.0, Univariate),\n",
    "          Slice(:αs, 1.0, Univariate),\n",
    "          Slice(:βs, 1.0, Univariate),\n",
    "          ]\n",
    "\n",
    "setsamplers!(model, scheme);"
   ]
  },
  {
   "cell_type": "markdown",
   "metadata": {},
   "source": [
    "All that is left, is to start the sampler and store the results in the appropriate files."
   ]
  },
  {
   "cell_type": "code",
   "execution_count": null,
   "metadata": {},
   "outputs": [],
   "source": [
    "sim = mcmc(model, my_data, inits, 10, burnin=5,thin=1, chains=1, trees=true)\n",
    "\n",
    "to_file(sim, \"Forrest_\")"
   ]
  }
 ],
 "metadata": {
  "kernelspec": {
   "display_name": "Julia 1.4.2",
   "language": "julia",
   "name": "julia-1.4"
  },
  "language_info": {
   "file_extension": ".jl",
   "mimetype": "application/julia",
   "name": "julia",
   "version": "1.4.2"
  }
 },
 "nbformat": 4,
 "nbformat_minor": 4
}
